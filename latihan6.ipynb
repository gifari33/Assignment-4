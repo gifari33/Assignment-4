{
 "cells": [
  {
   "cell_type": "code",
   "execution_count": 2,
   "metadata": {},
   "outputs": [
    {
     "name": "stdout",
     "output_type": "stream",
     "text": [
      "Proses selesai! Data gabungan disimpan di J:\\Drive Saya\\analisa sentimen git\\percobaan 12\\positive dan negative.csv\n"
     ]
    }
   ],
   "source": [
    "import pandas as pd\n",
    "from sklearn.preprocessing import MinMaxScaler\n",
    "\n",
    "# Path input dan output\n",
    "positive_path = r'J:\\Drive Saya\\analisa sentimen git\\positive.tsv'\n",
    "negative_path = r'J:\\Drive Saya\\analisa sentimen git\\negative.tsv'\n",
    "output_path = r'J:\\Drive Saya\\analisa sentimen git\\percobaan 12\\positive dan negative.csv'\n",
    "\n",
    "# Load dataset positive dan negative\n",
    "positive_df = pd.read_csv(positive_path, sep='\\t')\n",
    "negative_df = pd.read_csv(negative_path, sep='\\t')\n",
    "\n",
    "# Tambahkan label untuk membedakan\n",
    "positive_df['sentiment'] = 'positive'\n",
    "negative_df['sentiment'] = 'negative'\n",
    "\n",
    "# Gabungkan kedua dataframe\n",
    "combined_df = pd.concat([positive_df, negative_df], ignore_index=True)\n",
    "\n",
    "# Normalisasi kolom 'weight' dengan rentang -1 hingga 1\n",
    "scaler = MinMaxScaler(feature_range=(-1, 1))  # Normalisasi ke rentang -1 hingga 1\n",
    "combined_df['normalisasi'] = scaler.fit_transform(combined_df[['weight']])\n",
    "\n",
    "# Simpan hasil ke file CSV\n",
    "combined_df.to_csv(output_path, index=False)\n",
    "\n",
    "print(f\"Proses selesai! Data gabungan disimpan di {output_path}\")\n"
   ]
  }
 ],
 "metadata": {
  "kernelspec": {
   "display_name": "Python 3",
   "language": "python",
   "name": "python3"
  },
  "language_info": {
   "codemirror_mode": {
    "name": "ipython",
    "version": 3
   },
   "file_extension": ".py",
   "mimetype": "text/x-python",
   "name": "python",
   "nbconvert_exporter": "python",
   "pygments_lexer": "ipython3",
   "version": "3.12.5"
  }
 },
 "nbformat": 4,
 "nbformat_minor": 2
}
