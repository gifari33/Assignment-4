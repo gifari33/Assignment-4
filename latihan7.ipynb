{
 "cells": [
  {
   "cell_type": "code",
   "execution_count": 3,
   "metadata": {},
   "outputs": [
    {
     "name": "stderr",
     "output_type": "stream",
     "text": [
      "C:\\Users\\ghiff\\AppData\\Local\\Temp\\ipykernel_12224\\2053141992.py:10: DtypeWarning: Columns (2) have mixed types. Specify dtype option on import or set low_memory=False.\n",
      "  df_preprocessing = pd.read_csv(preprocessing_path)\n"
     ]
    },
    {
     "name": "stdout",
     "output_type": "stream",
     "text": [
      "Analisis sentimen selesai! Data disimpan di J:\\Drive Saya\\analisa sentimen git\\percobaan 12\\data_sentimen.csv\n"
     ]
    }
   ],
   "source": [
    "import pandas as pd\n",
    "import ast\n",
    "\n",
    "# Path dataset\n",
    "preprocessing_path = r'J:\\Drive Saya\\analisa sentimen git\\percobaan 12\\data_Preprocessing.csv'\n",
    "sentiment_words_path = r'J:\\Drive Saya\\analisa sentimen git\\percobaan 12\\positive dan negative.csv'\n",
    "output_path = r'J:\\Drive Saya\\analisa sentimen git\\percobaan 12\\data_sentimen.csv'\n",
    "\n",
    "# Load dataset preprocessing dan sentiment words\n",
    "df_preprocessing = pd.read_csv(preprocessing_path)\n",
    "df_sentiment_words = pd.read_csv(sentiment_words_path)\n",
    "\n",
    "# Buat dictionary dari sentiment words untuk mempercepat pencocokan\n",
    "sentiment_dict = df_sentiment_words.set_index('word')['weight'].to_dict()\n",
    "\n",
    "# Fungsi untuk menghitung sentimen\n",
    "def analyze_sentiment(preprocessed_tokens):\n",
    "    try:\n",
    "        # Konversi string tokens menjadi list\n",
    "        tokens = ast.literal_eval(preprocessed_tokens)\n",
    "    except (ValueError, SyntaxError):\n",
    "        # Jika parsing gagal, kembalikan sentimen netral (0)\n",
    "        return 'neutral'\n",
    "    \n",
    "    # Hitung total weight dari tokens yang cocok di sentiment_dict\n",
    "    sentiment_score = sum(sentiment_dict.get(token, 0) for token in tokens)\n",
    "    \n",
    "    # Tentukan sentimen berdasarkan skor\n",
    "    if sentiment_score > 0:\n",
    "        return 'positive'\n",
    "    elif sentiment_score < 0:\n",
    "        return 'negative'\n",
    "    else:\n",
    "        return 'neutral'\n",
    "\n",
    "# Terapkan analisis sentimen ke kolom 'data_Preprocessing'\n",
    "df_preprocessing['sentimen'] = df_preprocessing['data_Preprocessing'].apply(analyze_sentiment)\n",
    "\n",
    "# Simpan hasil ke file baru\n",
    "df_preprocessing.to_csv(output_path, index=False)\n",
    "\n",
    "print(f\"Analisis sentimen selesai! Data disimpan di {output_path}\")\n"
   ]
  }
 ],
 "metadata": {
  "kernelspec": {
   "display_name": "Python 3",
   "language": "python",
   "name": "python3"
  },
  "language_info": {
   "codemirror_mode": {
    "name": "ipython",
    "version": 3
   },
   "file_extension": ".py",
   "mimetype": "text/x-python",
   "name": "python",
   "nbconvert_exporter": "python",
   "pygments_lexer": "ipython3",
   "version": "3.12.5"
  }
 },
 "nbformat": 4,
 "nbformat_minor": 2
}
